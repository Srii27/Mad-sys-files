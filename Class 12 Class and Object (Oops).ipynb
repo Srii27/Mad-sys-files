{
 "cells": [
  {
   "cell_type": "code",
   "execution_count": 1,
   "id": "7e5a07c1",
   "metadata": {},
   "outputs": [],
   "source": [
    "#Oops - Object oriented programming system"
   ]
  },
  {
   "cell_type": "code",
   "execution_count": 2,
   "id": "a91dc1d8",
   "metadata": {},
   "outputs": [],
   "source": [
    "#writing one by one line of a code is called scripting, python supports scripting as well as Oops."
   ]
  },
  {
   "cell_type": "code",
   "execution_count": 3,
   "id": "f09eea1d",
   "metadata": {},
   "outputs": [],
   "source": [
    "#Class - is a classification of the real world entity ( laptop,pen,animal,car), which we cannot touch as Class is only the specification of the real world entity."
   ]
  },
  {
   "cell_type": "code",
   "execution_count": 4,
   "id": "b95059ec",
   "metadata": {},
   "outputs": [],
   "source": [
    "#object - is the real world entity which we touch and feel(dell laptop,flair pen,tiger,fortuner car ).\n",
    "#In other words Object is a variable of Class (fortuner is a variable of car)\n",
    "#a=1,b=\"sri\" ---here a(Object) is a variable of 1(integer class) and b(Object) is a variable of string class\n",
    "#l=[1,2,3,4,5] --- here l is a object of list class.\n",
    "#Objects are nothing but variables of particular class"
   ]
  },
  {
   "cell_type": "code",
   "execution_count": 5,
   "id": "d3a347fe",
   "metadata": {},
   "outputs": [],
   "source": [
    "#main purpose of using Oops concept is - modular code,increasing reusabilty,implementing abstraction over there,write once utilize multiple times after the call"
   ]
  },
  {
   "cell_type": "code",
   "execution_count": 6,
   "id": "47042e71",
   "metadata": {},
   "outputs": [],
   "source": [
    "class car:\n",
    "    pass"
   ]
  },
  {
   "cell_type": "code",
   "execution_count": 7,
   "id": "0e233dc1",
   "metadata": {},
   "outputs": [],
   "source": [
    "audiq7=car()"
   ]
  },
  {
   "cell_type": "code",
   "execution_count": 8,
   "id": "2838b23e",
   "metadata": {},
   "outputs": [],
   "source": [
    "#here audiq7 is a variable or object of car class"
   ]
  },
  {
   "cell_type": "code",
   "execution_count": 18,
   "id": "21edf71e",
   "metadata": {},
   "outputs": [],
   "source": [
    "audiq7.milage =10\n",
    "audiq7.year =2022\n",
    "audiq7.make = \"India\"\n",
    "audiq7.model =\"beast\""
   ]
  },
  {
   "cell_type": "code",
   "execution_count": 16,
   "id": "0bd649ab",
   "metadata": {},
   "outputs": [],
   "source": [
    "# audiq7=car() is nothing but a=7"
   ]
  },
  {
   "cell_type": "code",
   "execution_count": 17,
   "id": "770c1467",
   "metadata": {},
   "outputs": [
    {
     "data": {
      "text/plain": [
       "10"
      ]
     },
     "execution_count": 17,
     "metadata": {},
     "output_type": "execute_result"
    }
   ],
   "source": [
    "audiq7.milage"
   ]
  },
  {
   "cell_type": "code",
   "execution_count": 17,
   "id": "495a846a",
   "metadata": {},
   "outputs": [
    {
     "ename": "TypeError",
     "evalue": "__init__() missing 4 required positional arguments: 'milage', 'year', 'make', and 'model'",
     "output_type": "error",
     "traceback": [
      "\u001b[1;31m---------------------------------------------------------------------------\u001b[0m",
      "\u001b[1;31mTypeError\u001b[0m                                 Traceback (most recent call last)",
      "Cell \u001b[1;32mIn[17], line 1\u001b[0m\n\u001b[1;32m----> 1\u001b[0m nano\u001b[38;5;241m=\u001b[39m\u001b[43mcar\u001b[49m\u001b[43m(\u001b[49m\u001b[43m)\u001b[49m\n",
      "\u001b[1;31mTypeError\u001b[0m: __init__() missing 4 required positional arguments: 'milage', 'year', 'make', and 'model'"
     ]
    }
   ],
   "source": [
    "nano=car()"
   ]
  },
  {
   "cell_type": "code",
   "execution_count": 24,
   "id": "d3426e10",
   "metadata": {},
   "outputs": [],
   "source": [
    "nano.milage =20\n",
    "nano.year =2022\n",
    "nano.make = \"Bharat\"\n",
    "nano.model =\"bst\"\n",
    "nano.enginoo=12345678"
   ]
  },
  {
   "cell_type": "code",
   "execution_count": 22,
   "id": "ed14476f",
   "metadata": {},
   "outputs": [
    {
     "name": "stdout",
     "output_type": "stream",
     "text": [
      "10 20\n"
     ]
    }
   ],
   "source": [
    "print(audiq7.milage,nano.milage)"
   ]
  },
  {
   "cell_type": "code",
   "execution_count": 25,
   "id": "48d134d3",
   "metadata": {},
   "outputs": [],
   "source": [
    "#in the above method we need to write specifications independently for every variable. but its a bad programming method as that cannot work for multiuse."
   ]
  },
  {
   "cell_type": "code",
   "execution_count": 3,
   "id": "4edca7cf",
   "metadata": {},
   "outputs": [],
   "source": [
    "class car:\n",
    "    def __init__(self,milage,year,make,model):\n",
    "        self.milage=milage\n",
    "        self.year=year\n",
    "        self.make=make\n",
    "        self.model=model"
   ]
  },
  {
   "cell_type": "code",
   "execution_count": 4,
   "id": "88b38ae8",
   "metadata": {},
   "outputs": [],
   "source": [
    "nano1=car(20,2022,\"bharat\",\"12345\")\n"
   ]
  },
  {
   "cell_type": "code",
   "execution_count": 5,
   "id": "94c44fbc",
   "metadata": {},
   "outputs": [
    {
     "data": {
      "text/plain": [
       "20"
      ]
     },
     "execution_count": 5,
     "metadata": {},
     "output_type": "execute_result"
    }
   ],
   "source": [
    "nano1.milage"
   ]
  },
  {
   "cell_type": "code",
   "execution_count": 29,
   "id": "d893fd64",
   "metadata": {},
   "outputs": [],
   "source": [
    "#the above code is useful for n number of variables"
   ]
  },
  {
   "cell_type": "code",
   "execution_count": 30,
   "id": "9a0c253e",
   "metadata": {},
   "outputs": [],
   "source": [
    "nano2=car(20,2022,\"bharat\",\"12345\")\n",
    "audiq71=car(20,2022,\"bharat\",\"12345\")\n",
    "audiq72=car(20,2022,\"bharat\",\"12345\")"
   ]
  },
  {
   "cell_type": "code",
   "execution_count": 31,
   "id": "90025c0f",
   "metadata": {},
   "outputs": [
    {
     "data": {
      "text/plain": [
       "'12345'"
      ]
     },
     "execution_count": 31,
     "metadata": {},
     "output_type": "execute_result"
    }
   ],
   "source": [
    "audiq72.model"
   ]
  },
  {
   "cell_type": "code",
   "execution_count": 32,
   "id": "f6586388",
   "metadata": {},
   "outputs": [],
   "source": [
    "#(__init__) is initialisation method"
   ]
  },
  {
   "cell_type": "code",
   "execution_count": 33,
   "id": "b823b67a",
   "metadata": {},
   "outputs": [],
   "source": [
    "#def __init__(self,milage,year,make,model):\n",
    "#in case of any king of function that you are creating within a class the first parameter that you are going to pass behaves as a pointer. \n",
    "#SELF is not a predefined key word, we can use any word instead of it."
   ]
  },
  {
   "cell_type": "code",
   "execution_count": 34,
   "id": "a3e75021",
   "metadata": {},
   "outputs": [],
   "source": [
    "# whatever function we have written inside the class we have to call it with the particular object."
   ]
  },
  {
   "cell_type": "code",
   "execution_count": null,
   "id": "a6d7ef41",
   "metadata": {},
   "outputs": [],
   "source": []
  },
  {
   "cell_type": "code",
   "execution_count": 34,
   "id": "26e62274",
   "metadata": {},
   "outputs": [],
   "source": [
    "class car:\n",
    "    def __init__(self,milage,year,make,model):\n",
    "        self.milage=milage\n",
    "        self.year=year\n",
    "        self.make=make\n",
    "        self.model=model\n",
    "        \n",
    "    def age(a,current_year):\n",
    "        return current_year - a.year\n",
    "    \n",
    "    def milage1(self):\n",
    "        print(\"print a milage of car\",self.milage)\n",
    "    def __str__(c):# c is nothing but pointer\n",
    "        return \"this is my car class i have created\"\n"
   ]
  },
  {
   "cell_type": "code",
   "execution_count": 35,
   "id": "0f1d364c",
   "metadata": {},
   "outputs": [],
   "source": [
    "nano3=car(20,2022,\"bharat\",123)"
   ]
  },
  {
   "cell_type": "code",
   "execution_count": 29,
   "id": "2e867d2f",
   "metadata": {},
   "outputs": [
    {
     "data": {
      "text/plain": [
       "1"
      ]
     },
     "execution_count": 29,
     "metadata": {},
     "output_type": "execute_result"
    }
   ],
   "source": [
    "nano3.age(2023)"
   ]
  },
  {
   "cell_type": "code",
   "execution_count": 30,
   "id": "7e2200a8",
   "metadata": {},
   "outputs": [
    {
     "name": "stdout",
     "output_type": "stream",
     "text": [
      "print a milage of car 20\n"
     ]
    }
   ],
   "source": [
    "nano3.milage1()"
   ]
  },
  {
   "cell_type": "code",
   "execution_count": 31,
   "id": "c63fd7f7",
   "metadata": {},
   "outputs": [],
   "source": [
    "#the function which starts with underscore is python Class inbuilt method."
   ]
  },
  {
   "cell_type": "code",
   "execution_count": 33,
   "id": "7be56330",
   "metadata": {},
   "outputs": [],
   "source": [
    "#__str__ is a inbuilt function which we can use to give description of the object if it is called directly."
   ]
  },
  {
   "cell_type": "code",
   "execution_count": 36,
   "id": "f1dfaeeb",
   "metadata": {},
   "outputs": [
    {
     "name": "stdout",
     "output_type": "stream",
     "text": [
      "this is my car class i have created\n"
     ]
    }
   ],
   "source": [
    "print(nano3)"
   ]
  },
  {
   "cell_type": "code",
   "execution_count": 45,
   "id": "a143b20c",
   "metadata": {},
   "outputs": [],
   "source": [
    "class student:\n",
    "    def __init__(self,name,rollno,joining_date,current_topic):\n",
    "        self.name=name\n",
    "        self.rollno=rollno\n",
    "        self.joining_date=joining_date\n",
    "        self.current_topic=current_topic\n",
    "        \n",
    "    def name_Parsing(self):\n",
    "        if type(self.name)==list:\n",
    "            for i in self.name:\n",
    "                print(\"name of the student\",i)\n",
    "        else:\n",
    "            print(\"provided name is not in the list\")\n",
    "            \n",
    "    def crt_topic(self):\n",
    "        print(\"current topic discussed in my class is\",self.current_topic)\n",
    "    def str_rollno(self):\n",
    "        \n",
    "        if type(self.rollno)==str:\n",
    "            print(\"do notthing\")\n",
    "        else:\n",
    "            return str(self.rollno)\n",
    "    def duration(self,current_date):\n",
    "        print(\"duration of student in my class is \",current_date - self.joining_date)\n",
    "    def __str__(self):\n",
    "        return(\"this is student class where they can try to input there own data and they can try to fetch it\")\n",
    "        "
   ]
  },
  {
   "cell_type": "code",
   "execution_count": 77,
   "id": "f4951443",
   "metadata": {},
   "outputs": [],
   "source": [
    "class data:\n",
    "    def __init__(self,file_name,file_type,date,size):\n",
    "        self.file_name=file_name\n",
    "        self.file_type=file_type\n",
    "        self.date=date\n",
    "        self.size=size\n",
    "    \n",
    "    def file_open(self):\n",
    "        import os\n",
    "        os.getcwd()\n",
    "        f=open(str(self.file_name)+\".txt\",\"x\")\n",
    "        f.write(\"this is oops concept\")\n",
    "        f.close\n",
    "    def file_read(self):\n",
    "        import os\n",
    "        os.getcwd()\n",
    "        l=[]\n",
    "        f=open(str(self.file_name)+\".txt\",\"r\")\n",
    "        l.append(f.read())\n",
    "        f.close\n",
    "        return l\n",
    "    def file_append(self):\n",
    "        import os\n",
    "        os.getcwd()\n",
    "        l1=[]\n",
    "        f=open(str(self.file_name)+\".txt\",\"a+\")\n",
    "        f.write(\"- appended data succesfully\")\n",
    "        f.seek(0)\n",
    "        \n",
    "        l1.append(f.read())\n",
    "        f.close\n",
    "        return l1\n",
    "\n",
    "        \n",
    "        \n",
    "    "
   ]
  },
  {
   "cell_type": "code",
   "execution_count": 78,
   "id": "cc2976a7",
   "metadata": {},
   "outputs": [],
   "source": [
    "obj=data(\"oops\",\".txt\",2401,\"10mb\")"
   ]
  },
  {
   "cell_type": "code",
   "execution_count": 79,
   "id": "8352d832",
   "metadata": {},
   "outputs": [
    {
     "ename": "FileExistsError",
     "evalue": "[Errno 17] File exists: 'oops.txt'",
     "output_type": "error",
     "traceback": [
      "\u001b[1;31m---------------------------------------------------------------------------\u001b[0m",
      "\u001b[1;31mFileExistsError\u001b[0m                           Traceback (most recent call last)",
      "Cell \u001b[1;32mIn[79], line 1\u001b[0m\n\u001b[1;32m----> 1\u001b[0m \u001b[43mobj\u001b[49m\u001b[38;5;241;43m.\u001b[39;49m\u001b[43mfile_open\u001b[49m\u001b[43m(\u001b[49m\u001b[43m)\u001b[49m\n",
      "Cell \u001b[1;32mIn[77], line 11\u001b[0m, in \u001b[0;36mdata.file_open\u001b[1;34m(self)\u001b[0m\n\u001b[0;32m      9\u001b[0m \u001b[38;5;28;01mimport\u001b[39;00m \u001b[38;5;21;01mos\u001b[39;00m\n\u001b[0;32m     10\u001b[0m os\u001b[38;5;241m.\u001b[39mgetcwd()\n\u001b[1;32m---> 11\u001b[0m f\u001b[38;5;241m=\u001b[39m\u001b[38;5;28;43mopen\u001b[39;49m\u001b[43m(\u001b[49m\u001b[38;5;28;43mstr\u001b[39;49m\u001b[43m(\u001b[49m\u001b[38;5;28;43mself\u001b[39;49m\u001b[38;5;241;43m.\u001b[39;49m\u001b[43mfile_name\u001b[49m\u001b[43m)\u001b[49m\u001b[38;5;241;43m+\u001b[39;49m\u001b[38;5;124;43m\"\u001b[39;49m\u001b[38;5;124;43m.txt\u001b[39;49m\u001b[38;5;124;43m\"\u001b[39;49m\u001b[43m,\u001b[49m\u001b[38;5;124;43m\"\u001b[39;49m\u001b[38;5;124;43mx\u001b[39;49m\u001b[38;5;124;43m\"\u001b[39;49m\u001b[43m)\u001b[49m\n\u001b[0;32m     12\u001b[0m f\u001b[38;5;241m.\u001b[39mwrite(\u001b[38;5;124m\"\u001b[39m\u001b[38;5;124mthis is oops concept\u001b[39m\u001b[38;5;124m\"\u001b[39m)\n\u001b[0;32m     13\u001b[0m f\u001b[38;5;241m.\u001b[39mclose\n",
      "File \u001b[1;32m~\\Anaconda\\lib\\site-packages\\IPython\\core\\interactiveshell.py:282\u001b[0m, in \u001b[0;36m_modified_open\u001b[1;34m(file, *args, **kwargs)\u001b[0m\n\u001b[0;32m    275\u001b[0m \u001b[38;5;28;01mif\u001b[39;00m file \u001b[38;5;129;01min\u001b[39;00m {\u001b[38;5;241m0\u001b[39m, \u001b[38;5;241m1\u001b[39m, \u001b[38;5;241m2\u001b[39m}:\n\u001b[0;32m    276\u001b[0m     \u001b[38;5;28;01mraise\u001b[39;00m \u001b[38;5;167;01mValueError\u001b[39;00m(\n\u001b[0;32m    277\u001b[0m         \u001b[38;5;124mf\u001b[39m\u001b[38;5;124m\"\u001b[39m\u001b[38;5;124mIPython won\u001b[39m\u001b[38;5;124m'\u001b[39m\u001b[38;5;124mt let you open fd=\u001b[39m\u001b[38;5;132;01m{\u001b[39;00mfile\u001b[38;5;132;01m}\u001b[39;00m\u001b[38;5;124m by default \u001b[39m\u001b[38;5;124m\"\u001b[39m\n\u001b[0;32m    278\u001b[0m         \u001b[38;5;124m\"\u001b[39m\u001b[38;5;124mas it is likely to crash IPython. If you know what you are doing, \u001b[39m\u001b[38;5;124m\"\u001b[39m\n\u001b[0;32m    279\u001b[0m         \u001b[38;5;124m\"\u001b[39m\u001b[38;5;124myou can use builtins\u001b[39m\u001b[38;5;124m'\u001b[39m\u001b[38;5;124m open.\u001b[39m\u001b[38;5;124m\"\u001b[39m\n\u001b[0;32m    280\u001b[0m     )\n\u001b[1;32m--> 282\u001b[0m \u001b[38;5;28;01mreturn\u001b[39;00m io_open(file, \u001b[38;5;241m*\u001b[39margs, \u001b[38;5;241m*\u001b[39m\u001b[38;5;241m*\u001b[39mkwargs)\n",
      "\u001b[1;31mFileExistsError\u001b[0m: [Errno 17] File exists: 'oops.txt'"
     ]
    }
   ],
   "source": [
    "obj.file_open()"
   ]
  },
  {
   "cell_type": "code",
   "execution_count": 80,
   "id": "697dd957",
   "metadata": {},
   "outputs": [
    {
     "data": {
      "text/plain": [
       "['this is oops concept- appended data succesfully']"
      ]
     },
     "execution_count": 80,
     "metadata": {},
     "output_type": "execute_result"
    }
   ],
   "source": [
    "obj.file_read()"
   ]
  },
  {
   "cell_type": "code",
   "execution_count": 81,
   "id": "92e36ff9",
   "metadata": {},
   "outputs": [
    {
     "data": {
      "text/plain": [
       "['this is oops concept- appended data succesfully- appended data succesfully']"
      ]
     },
     "execution_count": 81,
     "metadata": {},
     "output_type": "execute_result"
    }
   ],
   "source": [
    "obj.file_append()"
   ]
  },
  {
   "cell_type": "code",
   "execution_count": 86,
   "id": "6e06a3b0",
   "metadata": {},
   "outputs": [
    {
     "data": {
      "text/plain": [
       "'C:\\\\Users\\\\Madhulika\\\\Sri'"
      ]
     },
     "execution_count": 86,
     "metadata": {},
     "output_type": "execute_result"
    }
   ],
   "source": [
    "import os\n",
    "\n",
    "os.getcwd()\n"
   ]
  },
  {
   "cell_type": "code",
   "execution_count": null,
   "id": "adf1fc49",
   "metadata": {},
   "outputs": [],
   "source": []
  },
  {
   "cell_type": "code",
   "execution_count": 46,
   "id": "9ad81371",
   "metadata": {},
   "outputs": [],
   "source": [
    "sri=student([\"srik\",\"mad\",\"krish\",\"mytha\"],[123,456,987],2021,\"OOPS\")"
   ]
  },
  {
   "cell_type": "code",
   "execution_count": 47,
   "id": "a9788b6a",
   "metadata": {},
   "outputs": [
    {
     "name": "stdout",
     "output_type": "stream",
     "text": [
      "duration of student in my class is  0\n"
     ]
    }
   ],
   "source": [
    "sri.duration(2021)"
   ]
  },
  {
   "cell_type": "code",
   "execution_count": 48,
   "id": "7375ebe2",
   "metadata": {},
   "outputs": [
    {
     "data": {
      "text/plain": [
       "'[123, 456, 987]'"
      ]
     },
     "execution_count": 48,
     "metadata": {},
     "output_type": "execute_result"
    }
   ],
   "source": [
    "sri.str_rollno()"
   ]
  },
  {
   "cell_type": "code",
   "execution_count": 49,
   "id": "c83177d0",
   "metadata": {},
   "outputs": [
    {
     "name": "stdout",
     "output_type": "stream",
     "text": [
      "this is student class where they can try to input there own data and they can try to fetch it\n"
     ]
    }
   ],
   "source": [
    "print(sri)"
   ]
  },
  {
   "cell_type": "code",
   "execution_count": 50,
   "id": "dc655b25",
   "metadata": {},
   "outputs": [
    {
     "name": "stdout",
     "output_type": "stream",
     "text": [
      "name of the student srik\n",
      "name of the student mad\n",
      "name of the student krish\n",
      "name of the student mytha\n"
     ]
    }
   ],
   "source": [
    "sri.name_Parsing()"
   ]
  },
  {
   "cell_type": "code",
   "execution_count": 89,
   "id": "5e93643d",
   "metadata": {},
   "outputs": [],
   "source": [
    "import logging as lg\n",
    "lg.basicConfig(filename=\"oops.log\",level=lg.INFO,format='%(asctime)s %(message)s %(name)s %(levelname)s')\n",
    "\n",
    "\n",
    "\n",
    "class data:\n",
    "    def __init__(self,file_name,file_type,date,size):\n",
    "        lg.info(\"the variables are file_name,file_type,date,size\")\n",
    "        self.file_name=file_name\n",
    "        self.file_type=file_type\n",
    "        self.date=date\n",
    "        self.size=size\n",
    "    \n",
    "    def file_open(self):\n",
    "        lg.info(\"this information is to open the file\")\n",
    "        import os\n",
    "        os.getcwd()\n",
    "        f=open(str(self.file_name)+\".txt\",\"x\")\n",
    "        f.write(\"this is oops concept\")\n",
    "        f.close\n",
    "    def file_read(self):\n",
    "        lg.info(\"reading file information\")\n",
    "        import os\n",
    "        os.getcwd()\n",
    "        l=[]\n",
    "        f=open(str(self.file_name)+\".txt\",\"r\")\n",
    "        l.append(f.read())\n",
    "        f.close\n",
    "        return l\n",
    "    lg.info(\"the result of file appending\")\n",
    "    def file_append(self):\n",
    "        import os\n",
    "        os.getcwd()\n",
    "        l1=[]\n",
    "        f=open(str(self.file_name)+\".txt\",\"a+\")\n",
    "        f.write(\"- appended data succesfully\")\n",
    "        f.seek(0)\n",
    "        \n",
    "        l1.append(f.read())\n",
    "        f.close\n",
    "        return l1\n",
    "    lg.info(\"the result of file appending 2\")\n",
    "\n",
    "        \n",
    "        \n",
    "    "
   ]
  },
  {
   "cell_type": "code",
   "execution_count": 90,
   "id": "a80d34f0",
   "metadata": {},
   "outputs": [],
   "source": [
    "obj=data(\"oops1\",\".txt\",2401,\"10mb\")"
   ]
  },
  {
   "cell_type": "code",
   "execution_count": 91,
   "id": "1d5871af",
   "metadata": {},
   "outputs": [],
   "source": [
    "obj.file_open()"
   ]
  },
  {
   "cell_type": "code",
   "execution_count": 92,
   "id": "1e50940a",
   "metadata": {},
   "outputs": [
    {
     "data": {
      "text/plain": [
       "['this is oops concept']"
      ]
     },
     "execution_count": 92,
     "metadata": {},
     "output_type": "execute_result"
    }
   ],
   "source": [
    "obj.file_read()"
   ]
  },
  {
   "cell_type": "code",
   "execution_count": 93,
   "id": "8b460dc4",
   "metadata": {},
   "outputs": [
    {
     "data": {
      "text/plain": [
       "['this is oops concept- appended data succesfully']"
      ]
     },
     "execution_count": 93,
     "metadata": {},
     "output_type": "execute_result"
    }
   ],
   "source": [
    "obj.file_append()"
   ]
  },
  {
   "cell_type": "code",
   "execution_count": null,
   "id": "b098bb27",
   "metadata": {},
   "outputs": [],
   "source": []
  }
 ],
 "metadata": {
  "kernelspec": {
   "display_name": "Python 3 (ipykernel)",
   "language": "python",
   "name": "python3"
  },
  "language_info": {
   "codemirror_mode": {
    "name": "ipython",
    "version": 3
   },
   "file_extension": ".py",
   "mimetype": "text/x-python",
   "name": "python",
   "nbconvert_exporter": "python",
   "pygments_lexer": "ipython3",
   "version": "3.9.7"
  }
 },
 "nbformat": 4,
 "nbformat_minor": 5
}

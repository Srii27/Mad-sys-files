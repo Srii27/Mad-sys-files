{
 "cells": [
  {
   "cell_type": "code",
   "execution_count": 1,
   "id": "1c156741",
   "metadata": {},
   "outputs": [],
   "source": [
    "# Abstraction- protecting your variable or your method from someone.\n",
    "# in abstraction no underscore means public,single underscore means protected,double underscore means private."
   ]
  },
  {
   "cell_type": "code",
   "execution_count": 2,
   "id": "7289dc87",
   "metadata": {},
   "outputs": [],
   "source": [
    "class test:\n",
    "    def __init__(self,a,b,c,d):\n",
    "        self.a=a\n",
    "        self.b=b\n",
    "        self.c=c\n",
    "        self.d=d\n",
    "    def test_custom(self,v):\n",
    "        return self.a - v\n",
    "    def __str__(self):\n",
    "        return \"this is my test code for abstraction\""
   ]
  },
  {
   "cell_type": "code",
   "execution_count": 3,
   "id": "90a3cfdd",
   "metadata": {},
   "outputs": [],
   "source": [
    "j=test(1,2,3,4)"
   ]
  },
  {
   "cell_type": "code",
   "execution_count": 4,
   "id": "feff96a2",
   "metadata": {},
   "outputs": [
    {
     "data": {
      "text/plain": [
       "-5"
      ]
     },
     "execution_count": 4,
     "metadata": {},
     "output_type": "execute_result"
    }
   ],
   "source": [
    "j.test_custom(6)"
   ]
  },
  {
   "cell_type": "code",
   "execution_count": 5,
   "id": "c4d09c74",
   "metadata": {},
   "outputs": [
    {
     "name": "stdout",
     "output_type": "stream",
     "text": [
      "this is my test code for abstraction\n"
     ]
    }
   ],
   "source": [
    "print(j)"
   ]
  },
  {
   "cell_type": "code",
   "execution_count": 6,
   "id": "e8a66aab",
   "metadata": {},
   "outputs": [],
   "source": [
    "#if we apply double underscore to \"a\" inside the class"
   ]
  },
  {
   "cell_type": "code",
   "execution_count": 7,
   "id": "74030adf",
   "metadata": {},
   "outputs": [],
   "source": [
    "class test:\n",
    "    def __init__(self,a,b,c,d):\n",
    "        self.__a=a\n",
    "        self.b=b\n",
    "        self.c=c\n",
    "        self.d=d\n",
    "    def test_custom(self,v):\n",
    "        return self.__a - v\n",
    "    def __str__(self):\n",
    "        return \"this is my test code for abstraction\""
   ]
  },
  {
   "cell_type": "code",
   "execution_count": 8,
   "id": "7ddb1de4",
   "metadata": {},
   "outputs": [],
   "source": [
    "j=test(1,2,3,4)"
   ]
  },
  {
   "cell_type": "code",
   "execution_count": 9,
   "id": "abae2210",
   "metadata": {},
   "outputs": [
    {
     "ename": "AttributeError",
     "evalue": "'test' object has no attribute 'a'",
     "output_type": "error",
     "traceback": [
      "\u001b[1;31m---------------------------------------------------------------------------\u001b[0m",
      "\u001b[1;31mAttributeError\u001b[0m                            Traceback (most recent call last)",
      "Cell \u001b[1;32mIn[9], line 1\u001b[0m\n\u001b[1;32m----> 1\u001b[0m \u001b[43mj\u001b[49m\u001b[38;5;241;43m.\u001b[39;49m\u001b[43ma\u001b[49m\n",
      "\u001b[1;31mAttributeError\u001b[0m: 'test' object has no attribute 'a'"
     ]
    }
   ],
   "source": [
    "j.a"
   ]
  },
  {
   "cell_type": "code",
   "execution_count": 10,
   "id": "8bb2ea57",
   "metadata": {},
   "outputs": [
    {
     "data": {
      "text/plain": [
       "2"
      ]
     },
     "execution_count": 10,
     "metadata": {},
     "output_type": "execute_result"
    }
   ],
   "source": [
    "j.b"
   ]
  },
  {
   "cell_type": "code",
   "execution_count": 11,
   "id": "1efac427",
   "metadata": {},
   "outputs": [],
   "source": [
    "#in the above we cannot get the value of a  because we made it private variable"
   ]
  },
  {
   "cell_type": "markdown",
   "id": "468428be",
   "metadata": {},
   "source": [
    "INHERITANCE\n"
   ]
  },
  {
   "cell_type": "code",
   "execution_count": 12,
   "id": "bf42ffad",
   "metadata": {},
   "outputs": [],
   "source": [
    "#inheritance allows you to inherit a property of parent class to a child class.\n",
    "#instead of writing the same code again and again we call the required code to place where we want. "
   ]
  },
  {
   "cell_type": "code",
   "execution_count": 13,
   "id": "8b42e674",
   "metadata": {},
   "outputs": [],
   "source": [
    "class test1(test):\n",
    "    def __init__(self,j,*args):\n",
    "        super(test1,self).__init__(*args)\n",
    "        self.j=j"
   ]
  },
  {
   "cell_type": "code",
   "execution_count": 16,
   "id": "c1644a4c",
   "metadata": {},
   "outputs": [],
   "source": [
    "m=test1(2,4,5,6,7)"
   ]
  },
  {
   "cell_type": "code",
   "execution_count": 18,
   "id": "fc651b5b",
   "metadata": {},
   "outputs": [
    {
     "data": {
      "text/plain": [
       "-6"
      ]
     },
     "execution_count": 18,
     "metadata": {},
     "output_type": "execute_result"
    }
   ],
   "source": [
    "m.test_custom(10)"
   ]
  },
  {
   "cell_type": "code",
   "execution_count": null,
   "id": "55d43a0a",
   "metadata": {},
   "outputs": [],
   "source": [
    "#in the above code line 1 we have called parent code\n",
    "#line 2 we have given new argument j and (*args) for other multiple arguments.\n",
    "#line 3 super is the function which means parent of test1 over there and importing the arguments from parent code."
   ]
  },
  {
   "cell_type": "code",
   "execution_count": 19,
   "id": "b33ca693",
   "metadata": {},
   "outputs": [
    {
     "ename": "AttributeError",
     "evalue": "'test1' object has no attribute 'a'",
     "output_type": "error",
     "traceback": [
      "\u001b[1;31m---------------------------------------------------------------------------\u001b[0m",
      "\u001b[1;31mAttributeError\u001b[0m                            Traceback (most recent call last)",
      "Cell \u001b[1;32mIn[19], line 1\u001b[0m\n\u001b[1;32m----> 1\u001b[0m \u001b[43mm\u001b[49m\u001b[38;5;241;43m.\u001b[39;49m\u001b[43ma\u001b[49m\n",
      "\u001b[1;31mAttributeError\u001b[0m: 'test1' object has no attribute 'a'"
     ]
    }
   ],
   "source": [
    "m.a"
   ]
  },
  {
   "cell_type": "code",
   "execution_count": 20,
   "id": "8c1b2559",
   "metadata": {},
   "outputs": [
    {
     "data": {
      "text/plain": [
       "5"
      ]
     },
     "execution_count": 20,
     "metadata": {},
     "output_type": "execute_result"
    }
   ],
   "source": [
    "m.b"
   ]
  },
  {
   "cell_type": "code",
   "execution_count": 21,
   "id": "221b5420",
   "metadata": {},
   "outputs": [
    {
     "data": {
      "text/plain": [
       "2"
      ]
     },
     "execution_count": 21,
     "metadata": {},
     "output_type": "execute_result"
    }
   ],
   "source": [
    "m.j"
   ]
  },
  {
   "cell_type": "code",
   "execution_count": 40,
   "id": "652ad11c",
   "metadata": {},
   "outputs": [],
   "source": [
    "class que:\n",
    "    def a(self,w):\n",
    "        try:\n",
    "            while w!=1:\n",
    "                return \"you should enter 1 to run this a\"\n",
    "            \n",
    "        except Exception as e:\n",
    "            return \"please enter 1 to run a function\",e\n",
    "        else:\n",
    "        \n",
    "            \n",
    "            return \"this is the a of que\"\n",
    "    def testque(self):\n",
    "        return \"testque success\"\n",
    "        \n",
    "    def __str__(self):\n",
    "        return \"this is first class\""
   ]
  },
  {
   "cell_type": "code",
   "execution_count": 41,
   "id": "13004c29",
   "metadata": {},
   "outputs": [],
   "source": [
    "a=que()\n"
   ]
  },
  {
   "cell_type": "code",
   "execution_count": 42,
   "id": "771db8b7",
   "metadata": {},
   "outputs": [
    {
     "data": {
      "text/plain": [
       "'this is the a of que'"
      ]
     },
     "execution_count": 42,
     "metadata": {},
     "output_type": "execute_result"
    }
   ],
   "source": [
    "a.a(1)"
   ]
  },
  {
   "cell_type": "code",
   "execution_count": null,
   "id": "2a9fe3b5",
   "metadata": {},
   "outputs": [],
   "source": []
  },
  {
   "cell_type": "code",
   "execution_count": null,
   "id": "fc8bdfd3",
   "metadata": {},
   "outputs": [],
   "source": []
  },
  {
   "cell_type": "code",
   "execution_count": 43,
   "id": "64485c5a",
   "metadata": {},
   "outputs": [],
   "source": [
    "class que1:\n",
    "    def a(self,w):\n",
    "        try:\n",
    "            while w!=2:\n",
    "                return \"you should enter 2 to run this a\"\n",
    "            \n",
    "        except Exception as e:\n",
    "            return \"please enter 1 to run a function\",e\n",
    "        else:\n",
    "        \n",
    "            \n",
    "            return \"this is the a of que1\"\n",
    "    def testque1(self):\n",
    "        return \"testing success\"\n",
    "        \n",
    "    def __str__(self):\n",
    "        return \"this is second class\"    "
   ]
  },
  {
   "cell_type": "code",
   "execution_count": 44,
   "id": "7592c7ed",
   "metadata": {},
   "outputs": [],
   "source": [
    "n=que1()"
   ]
  },
  {
   "cell_type": "code",
   "execution_count": 46,
   "id": "933101c2",
   "metadata": {},
   "outputs": [
    {
     "data": {
      "text/plain": [
       "'this is the a of que1'"
      ]
     },
     "execution_count": 46,
     "metadata": {},
     "output_type": "execute_result"
    }
   ],
   "source": [
    "n.a(2)"
   ]
  },
  {
   "cell_type": "code",
   "execution_count": null,
   "id": "f49d658b",
   "metadata": {},
   "outputs": [],
   "source": []
  },
  {
   "cell_type": "code",
   "execution_count": 62,
   "id": "7aa10b14",
   "metadata": {},
   "outputs": [],
   "source": [
    "class que2(que1,que):\n",
    "    def __init__(self,*args,g):\n",
    "        super(que1,que,self).__init__(*args)\n",
    "        super(que,que1,self).__init__(*args)\n",
    "        self.g=g\n",
    "    \n",
    "        \n",
    "            "
   ]
  },
  {
   "cell_type": "code",
   "execution_count": 63,
   "id": "12ff4663",
   "metadata": {},
   "outputs": [],
   "source": [
    "o=que2"
   ]
  },
  {
   "cell_type": "code",
   "execution_count": 69,
   "id": "9bb78398",
   "metadata": {},
   "outputs": [
    {
     "ename": "TypeError",
     "evalue": "a() missing 2 required positional arguments: 'self' and 'w'",
     "output_type": "error",
     "traceback": [
      "\u001b[1;31m---------------------------------------------------------------------------\u001b[0m",
      "\u001b[1;31mTypeError\u001b[0m                                 Traceback (most recent call last)",
      "Cell \u001b[1;32mIn[69], line 1\u001b[0m\n\u001b[1;32m----> 1\u001b[0m \u001b[43mo\u001b[49m\u001b[38;5;241;43m.\u001b[39;49m\u001b[43ma\u001b[49m\u001b[43m(\u001b[49m\u001b[43m)\u001b[49m\n",
      "\u001b[1;31mTypeError\u001b[0m: a() missing 2 required positional arguments: 'self' and 'w'"
     ]
    }
   ],
   "source": [
    "o.a()"
   ]
  },
  {
   "cell_type": "code",
   "execution_count": 75,
   "id": "093a8e5c",
   "metadata": {},
   "outputs": [],
   "source": [
    "m=que2"
   ]
  },
  {
   "cell_type": "code",
   "execution_count": 69,
   "id": "7b67390d",
   "metadata": {},
   "outputs": [
    {
     "data": {
      "text/plain": [
       "'testing success'"
      ]
     },
     "execution_count": 69,
     "metadata": {},
     "output_type": "execute_result"
    }
   ],
   "source": [
    "m.testque1(0)"
   ]
  },
  {
   "cell_type": "code",
   "execution_count": 76,
   "id": "2f44bfca",
   "metadata": {},
   "outputs": [
    {
     "data": {
      "text/plain": [
       "'please enter 1 to run a function'"
      ]
     },
     "execution_count": 76,
     "metadata": {},
     "output_type": "execute_result"
    }
   ],
   "source": [
    "m.a(0,0)"
   ]
  },
  {
   "cell_type": "code",
   "execution_count": 77,
   "id": "5d48d05d",
   "metadata": {},
   "outputs": [
    {
     "data": {
      "text/plain": [
       "'this a belongs to que'"
      ]
     },
     "execution_count": 77,
     "metadata": {},
     "output_type": "execute_result"
    }
   ],
   "source": [
    "m.a(0,1)"
   ]
  },
  {
   "cell_type": "code",
   "execution_count": 78,
   "id": "3961fef6",
   "metadata": {},
   "outputs": [
    {
     "data": {
      "text/plain": [
       "'please enter 1 to run a function'"
      ]
     },
     "execution_count": 78,
     "metadata": {},
     "output_type": "execute_result"
    }
   ],
   "source": [
    "m.a(0,2)"
   ]
  },
  {
   "cell_type": "code",
   "execution_count": 70,
   "id": "63cf80ab",
   "metadata": {},
   "outputs": [],
   "source": [
    "#the above trail is for to print both the \"a\" from the que and que1 and taking them inheritance to que2"
   ]
  },
  {
   "cell_type": "code",
   "execution_count": null,
   "id": "30991c1f",
   "metadata": {},
   "outputs": [],
   "source": [
    "#we have not got the output of two \"a\"s because it will go through the first child class only."
   ]
  },
  {
   "cell_type": "code",
   "execution_count": 73,
   "id": "0ece92d3",
   "metadata": {},
   "outputs": [
    {
     "name": "stdout",
     "output_type": "stream",
     "text": [
      "function a from class test\n",
      "function a from class test1\n"
     ]
    }
   ],
   "source": [
    "class test:\n",
    "    def a(self):\n",
    "        print(\"function a from class test\")\n",
    "class test1:\n",
    "    def a(self):\n",
    "        print(\"function a from class test1\")\n",
    "class test2:\n",
    "    def a(self):\n",
    "        test.a(self)\n",
    "        test1.a(self)\n",
    "        \n",
    "t=test2()\n",
    "t.a()\n",
    "    "
   ]
  },
  {
   "cell_type": "code",
   "execution_count": 74,
   "id": "1f6edb43",
   "metadata": {},
   "outputs": [
    {
     "name": "stdout",
     "output_type": "stream",
     "text": [
      "iNeuron company was established in 2018\n"
     ]
    }
   ],
   "source": [
    "class Ineuron:\n",
    "    company_website='https://ineuron.ai'\n",
    "    name='iNeuron'\n",
    "    \n",
    "    def contact_details(self):\n",
    "        print('contact us at',self.company_website)\n",
    "        \n",
    "class Datascience(Ineuron):\n",
    "    def __init__(self):\n",
    "        self.year_of_establishment=2018\n",
    "        \n",
    "    def est_details(self):\n",
    "        print('{0} company was established in {1}'.format(self.name,self.year_of_establishment))\n",
    "ds=Datascience()\n",
    "ds.est_details()"
   ]
  },
  {
   "cell_type": "code",
   "execution_count": 75,
   "id": "bfcfc6a1",
   "metadata": {},
   "outputs": [
    {
     "name": "stdout",
     "output_type": "stream",
     "text": [
      "multi_task\n",
      "Name:iNeuron\n"
     ]
    },
    {
     "data": {
      "text/plain": [
       "<__main__.windows at 0x1ddf94abfa0>"
      ]
     },
     "execution_count": 75,
     "metadata": {},
     "output_type": "execute_result"
    }
   ],
   "source": [
    "class os:\n",
    "    multi_task=True\n",
    "    os_name='windows os'\n",
    "class windows(os,Ineuron):\n",
    "    def __init__(self):\n",
    "        if self.multi_task is True:\n",
    "            print(\"multi_task\")\n",
    "            print('Name:{}'.format(self.name))\n",
    "            \n",
    "windows()"
   ]
  },
  {
   "cell_type": "code",
   "execution_count": 76,
   "id": "07122a3b",
   "metadata": {},
   "outputs": [],
   "source": [
    "#the above code proves that without using super function we can do the inheritance easily."
   ]
  },
  {
   "cell_type": "code",
   "execution_count": 77,
   "id": "ffb40d5b",
   "metadata": {},
   "outputs": [
    {
     "name": "stdout",
     "output_type": "stream",
     "text": [
      "The company ineuron offers to total 12 different types of courses.Most trending course is Data-science\n"
     ]
    }
   ],
   "source": [
    "class ineuron:\n",
    "    num_of_courses=12\n",
    "class Datascience(ineuron):\n",
    "    course_type='Data-science'\n",
    "class AI(Datascience):\n",
    "    def __init__(self):\n",
    "        self.company=\"ineuron\"\n",
    "        print('The company {} offers to total {} different types of courses.Most trending course is {}'.format(self.company,self.num_of_courses,self.course_type))\n",
    "a=AI()        "
   ]
  },
  {
   "cell_type": "code",
   "execution_count": 78,
   "id": "99dcd143",
   "metadata": {},
   "outputs": [],
   "source": [
    "#the above is the multi-level inheritance."
   ]
  },
  {
   "cell_type": "markdown",
   "id": "79cbbb56",
   "metadata": {},
   "source": [
    "INCAPSULATION"
   ]
  },
  {
   "cell_type": "code",
   "execution_count": 79,
   "id": "8391dae1",
   "metadata": {},
   "outputs": [],
   "source": [
    "#in the method inheritance we have learnt the reusability of the code by calling the parent class and the functions inside it by\n",
    "#literally seeing it and knowing what it is.But in this incapsulation method we do the reusability of the code but we need not \n",
    "#to know the parent class or the functions inside the parent class."
   ]
  },
  {
   "cell_type": "code",
   "execution_count": 83,
   "id": "b20a142a",
   "metadata": {},
   "outputs": [],
   "source": [
    "class test:\n",
    "    def __init__(self,a,b,c):\n",
    "        self.a=a\n",
    "        self.b=b\n",
    "        self.c=c\n",
    "    def __str__(self):\n",
    "        return \"this is the return from my test class\"\n",
    "\n",
    "class test1:\n",
    "    def __init__(self,a,b,c):\n",
    "        self.a=a\n",
    "        self.b=b\n",
    "        self.c=c\n",
    "    def __str__(self):\n",
    "        return \"this is the return from my test1 class\"\n",
    "class test2:\n",
    "    def __init__(self,a,b,c):\n",
    "        self.a=a\n",
    "        self.b=b\n",
    "        self.c=c\n",
    "    def __str__(self):\n",
    "        return \"this is the return from my test2 class\"\n",
    "class final:\n",
    "    def __init__(self,x,y,z):\n",
    "        self.x=x\n",
    "        self.y=y\n",
    "        self.z=z\n",
    "    def __str__(self):\n",
    "        return str(self.x)+\"    \"+str(self.y)+\"   \"+str(self.z)"
   ]
  },
  {
   "cell_type": "code",
   "execution_count": 84,
   "id": "baf12b3f",
   "metadata": {},
   "outputs": [],
   "source": [
    "t=test(4,5,6)\n",
    "t1=test1(3,4,5)\n",
    "t2=test2(5,6,7)\n",
    "f=final(t,t1,t2)"
   ]
  },
  {
   "cell_type": "code",
   "execution_count": 85,
   "id": "892e686e",
   "metadata": {},
   "outputs": [
    {
     "name": "stdout",
     "output_type": "stream",
     "text": [
      "this is the return from my test class    this is the return from my test1 class   this is the return from my test2 class\n"
     ]
    }
   ],
   "source": [
    "print(f)"
   ]
  },
  {
   "cell_type": "code",
   "execution_count": 86,
   "id": "93df40ea",
   "metadata": {},
   "outputs": [],
   "source": [
    "#in order to invoke all the classes into the final class we can inherit all the given classes(test,test1,test2) which we call that inheritance method.\n",
    "#the other method is to creat a class object(final) and pass the other class objects into that class."
   ]
  },
  {
   "cell_type": "code",
   "execution_count": 87,
   "id": "3d1919fa",
   "metadata": {},
   "outputs": [],
   "source": [
    "t=test(4,5,6)\n",
    "t1=test1(3,4,5)\n",
    "t2=test2(5,6,7)\n",
    "f=final(t,t1,\"sri\")"
   ]
  },
  {
   "cell_type": "code",
   "execution_count": 88,
   "id": "c976c47b",
   "metadata": {},
   "outputs": [
    {
     "name": "stdout",
     "output_type": "stream",
     "text": [
      "this is the return from my test class    this is the return from my test1 class   sri\n"
     ]
    }
   ],
   "source": [
    "print(f)"
   ]
  },
  {
   "cell_type": "code",
   "execution_count": 1,
   "id": "ea155bde",
   "metadata": {},
   "outputs": [],
   "source": [
    "#in the above we have invoked only to objects of the classes and we can write anything in the other object.\n",
    "#by the object we are calling the other classes.we are not calling class or function directly like in case of inheritance.By this\n",
    "#we are hiding the actual implimentations and calling only the objects.with this we are hiding the original implimentation of classes(incapsulation)"
   ]
  },
  {
   "cell_type": "code",
   "execution_count": 3,
   "id": "abe10a9c",
   "metadata": {},
   "outputs": [
    {
     "name": "stdout",
     "output_type": "stream",
     "text": [
      "tyres: \n",
      " \tbranch:manneguda\n",
      " \tbelted-bias:True\n",
      " \toptimal pressure:2.0\n",
      "engine: \n",
      " \tfuel type:diesel\n",
      " \tnoise level:4\n",
      "body: \n",
      "\tsize:medium\n",
      "toyota\n"
     ]
    }
   ],
   "source": [
    "class tyres:\n",
    "    def __init__(self,branch,belted_bias,opt_pressure):\n",
    "        self.branch=branch\n",
    "        self.beted_bias=belted_bias\n",
    "        self.opt_pressure=opt_pressure\n",
    "    def __str__(self):\n",
    "        return(\"tyres: \\n \\tbranch:\"+self.branch+\"\\n \\tbelted-bias:\"+str(self.beted_bias)+\"\\n \\toptimal pressure:\"+str(self.opt_pressure))\n",
    "    \n",
    "class engine:\n",
    "    def __init__(self,fuel_type,noise_level):\n",
    "        self.fuel_type=fuel_type\n",
    "        self.noise_level=noise_level\n",
    "    def __str__(self):\n",
    "        return(\"engine: \\n \\tfuel type:\"+self.fuel_type+\"\\n \\tnoise level:\"+str(self.noise_level))\n",
    "class body:\n",
    "    def __init__(self,size):\n",
    "        self.size=size\n",
    "    def __str__(self):\n",
    "        return \"body: \\n\\tsize:\"+self.size\n",
    "    \n",
    "class car:\n",
    "    def __init__(self,name,tyres,engine,body):\n",
    "        self.name=name\n",
    "        self.tyres=tyres\n",
    "        self.engine=engine\n",
    "        self.body=body\n",
    "    def __str__(self):\n",
    "        return str(self.tyres)+\"\\n\"+str(self.engine)+\"\\n\"+str(self.body)+\"\\n\"+str(self.name)\n",
    "t=tyres(\"manneguda\",True,2.0)\n",
    "e=engine(\"diesel\",4)\n",
    "b=body(\"medium\")\n",
    "c=car(\"toyota\",t,e,b)\n",
    "print(c)"
   ]
  },
  {
   "cell_type": "code",
   "execution_count": 6,
   "id": "00dc4add",
   "metadata": {},
   "outputs": [
    {
     "name": "stdout",
     "output_type": "stream",
     "text": [
      "jocky is a lab born in 2022.\n"
     ]
    }
   ],
   "source": [
    "class dog:\n",
    "    def __init__(self,name,year_of_birth,breed):\n",
    "        self.name=name\n",
    "        self.year_of_birth=year_of_birth\n",
    "        self.breed=breed\n",
    "        \n",
    "    def __str__(self):\n",
    "        return \"%s is a %s born in %d.\"%(self.name,self.breed,self.year_of_birth)\n",
    "jocky=dog(\"jocky\",2022,\"lab\")\n",
    "print(jocky)"
   ]
  },
  {
   "cell_type": "code",
   "execution_count": 11,
   "id": "66c4535c",
   "metadata": {},
   "outputs": [],
   "source": [
    "class student:\n",
    "    def __init__(self,name,student_id,school_name,address):\n",
    "        self.name=name\n",
    "        self.student_id=student_id\n",
    "        self.school_name=school_name\n",
    "        self.address=address\n",
    "    def __str__(self):\n",
    "        return str(self.name)+\"   \"+str(self.student_id)+\"  \"+str(self.school_name)+\"   \"+str(self.address)"
   ]
  },
  {
   "cell_type": "code",
   "execution_count": 12,
   "id": "b6779bbc",
   "metadata": {},
   "outputs": [
    {
     "name": "stdout",
     "output_type": "stream",
     "text": [
      "sri   123  ineuron   xyz\n"
     ]
    }
   ],
   "source": [
    "s=student(\"sri\",123,\"ineuron\",\"xyz\")\n",
    "print(s)"
   ]
  },
  {
   "cell_type": "code",
   "execution_count": 15,
   "id": "e8563fe9",
   "metadata": {},
   "outputs": [
    {
     "name": "stdout",
     "output_type": "stream",
     "text": [
      "jocky is a lab born in 2022.   12  dog_vfd   ncidb\n"
     ]
    }
   ],
   "source": [
    "d=student(jocky,12,\"dog_vfd\",\"ncidb\")\n",
    "print(d)"
   ]
  },
  {
   "cell_type": "code",
   "execution_count": 16,
   "id": "5205c6d7",
   "metadata": {},
   "outputs": [],
   "source": [
    "#we do not know how the print,len,return etc functions are written but we still utilise the functions by directly calling them with the key word.\n",
    "#this is called incapsulation."
   ]
  },
  {
   "cell_type": "code",
   "execution_count": 19,
   "id": "2dfc1fc7",
   "metadata": {},
   "outputs": [],
   "source": [
    "class BonusDistribution:\n",
    "    \n",
    "    def __init__(self,employeeId,employeeRating):\n",
    "        \n",
    "        self.emId=employeeId\n",
    "        self.empRating=employeeRating\n",
    "        self.__bonusforRatingA=\"70%\"#making value private\n",
    "        self.__bonusforRatingB=\"60%\"#making value private\n",
    "        self.__bonusforRatingC=\"50%\"#making value private\n",
    "        self.__bonusforRatingD=\"30%\"#making value private\n",
    "        self.__bonusforRatingForRest=\"No Bonus\"#making value private\n",
    "    \n",
    "    def bonusCalculator(self):\n",
    "        if self.empRating==\"A\":\n",
    "            bonus=self.__bonusforRatingA\n",
    "            msg=\"Bonus for this employee is:\"+ bonus\n",
    "            return msg\n",
    "        elif self.empRating==\"B\":\n",
    "            bonus=self.__bonusforRatingB\n",
    "            msg=\"Bonus for this employee is:\"+ bonus\n",
    "            return msg\n",
    "        elif self.empRating==\"c\":\n",
    "            bonus=self.__bonusforRatingC\n",
    "            msg=\"Bonus for this employee is:\"+ bonus\n",
    "            return msg\n",
    "        elif self.empRating==\"D\":\n",
    "            bonus=self.__bonusforRatingD\n",
    "            msg=\"Bonus for this employee is:\"+ bonus\n",
    "            return msg\n",
    "        else:\n",
    "            bonus=self.__bonusforRatingForRest\n",
    "            msg=\"Bonus for this employee is:\"+ bonus\n",
    "            return msg"
   ]
  },
  {
   "cell_type": "code",
   "execution_count": 20,
   "id": "1315639d",
   "metadata": {},
   "outputs": [],
   "source": [
    "emp1=BonusDistribution(123,'B')\n",
    "emp2=BonusDistribution(123,'A')\n",
    "emp3=BonusDistribution(123,'C')"
   ]
  },
  {
   "cell_type": "code",
   "execution_count": 22,
   "id": "fccff18a",
   "metadata": {},
   "outputs": [
    {
     "data": {
      "text/plain": [
       "'Bonus for this employee is:60%'"
      ]
     },
     "execution_count": 22,
     "metadata": {},
     "output_type": "execute_result"
    }
   ],
   "source": [
    "emp1.bonusCalculator()"
   ]
  },
  {
   "cell_type": "code",
   "execution_count": 23,
   "id": "fa38a6bc",
   "metadata": {},
   "outputs": [
    {
     "data": {
      "text/plain": [
       "'Bonus for this employee is:70%'"
      ]
     },
     "execution_count": 23,
     "metadata": {},
     "output_type": "execute_result"
    }
   ],
   "source": [
    "emp2.bonusCalculator()"
   ]
  },
  {
   "cell_type": "code",
   "execution_count": 24,
   "id": "2dc47cfd",
   "metadata": {},
   "outputs": [],
   "source": [
    "#we can rewrite the private variable in the python"
   ]
  },
  {
   "cell_type": "code",
   "execution_count": 28,
   "id": "ef980eb1",
   "metadata": {},
   "outputs": [],
   "source": [
    "emp1._BonusDistribution__bonusforRatingB=\"90%\""
   ]
  },
  {
   "cell_type": "code",
   "execution_count": 29,
   "id": "77d21b9a",
   "metadata": {},
   "outputs": [
    {
     "data": {
      "text/plain": [
       "'Bonus for this employee is:90%'"
      ]
     },
     "execution_count": 29,
     "metadata": {},
     "output_type": "execute_result"
    }
   ],
   "source": [
    "emp1.bonusCalculator()"
   ]
  },
  {
   "cell_type": "code",
   "execution_count": 30,
   "id": "11866450",
   "metadata": {},
   "outputs": [],
   "source": [
    "#we can also do the above with the fucntion"
   ]
  },
  {
   "cell_type": "code",
   "execution_count": 34,
   "id": "c44e1c89",
   "metadata": {},
   "outputs": [],
   "source": [
    "class BonusDistribution:\n",
    "    \n",
    "    def __init__(self,employeeId,employeeRating):\n",
    "        \n",
    "        self.emId=employeeId\n",
    "        self.empRating=employeeRating\n",
    "        self.__bonusforRatingA=\"70%\"#making value private\n",
    "        self.__bonusforRatingB=\"60%\"#making value private\n",
    "        self.__bonusforRatingC=\"50%\"#making value private\n",
    "        self.__bonusforRatingD=\"30%\"#making value private\n",
    "        self.__bonusforRatingForRest=\"No Bonus\"#making value private\n",
    "    \n",
    "    def bonusCalculator(self):\n",
    "        if self.empRating==\"A\":\n",
    "            bonus=self.__bonusforRatingA\n",
    "            msg=\"Bonus for this employee is:\"+ bonus\n",
    "            return msg\n",
    "        elif self.empRating==\"B\":\n",
    "            bonus=self.__bonusforRatingB\n",
    "            msg=\"Bonus for this employee is:\"+ bonus\n",
    "            return msg\n",
    "        elif self.empRating==\"c\":\n",
    "            bonus=self.__bonusforRatingC\n",
    "            msg=\"Bonus for this employee is:\"+ bonus\n",
    "            return msg\n",
    "        elif self.empRating==\"D\":\n",
    "            bonus=self.__bonusforRatingD\n",
    "            msg=\"Bonus for this employee is:\"+ bonus\n",
    "            return msg\n",
    "        else:\n",
    "            bonus=self.__bonusforRatingForRest\n",
    "            msg=\"Bonus for this employee is:\"+ bonus\n",
    "            return msg\n",
    "    def changevariable(self,value):\n",
    "        self.__bonusforRatingB=value"
   ]
  },
  {
   "cell_type": "code",
   "execution_count": 35,
   "id": "509d7036",
   "metadata": {},
   "outputs": [],
   "source": [
    "emp1=BonusDistribution(123,'B')\n",
    "emp2=BonusDistribution(123,'A')\n",
    "emp3=BonusDistribution(123,'C')"
   ]
  },
  {
   "cell_type": "code",
   "execution_count": 41,
   "id": "fb11df4a",
   "metadata": {},
   "outputs": [],
   "source": [
    "emp1.changevariable(\"100%\")"
   ]
  },
  {
   "cell_type": "code",
   "execution_count": 42,
   "id": "5087b7b4",
   "metadata": {},
   "outputs": [
    {
     "data": {
      "text/plain": [
       "'Bonus for this employee is:100%'"
      ]
     },
     "execution_count": 42,
     "metadata": {},
     "output_type": "execute_result"
    }
   ],
   "source": [
    "emp1.bonusCalculator()"
   ]
  },
  {
   "cell_type": "code",
   "execution_count": 43,
   "id": "08c409c2",
   "metadata": {},
   "outputs": [],
   "source": [
    "#in the incapsulation the code is written in such a way that if we are manupulating one object,it will not effect the other object."
   ]
  },
  {
   "cell_type": "code",
   "execution_count": 44,
   "id": "0e87bbf4",
   "metadata": {},
   "outputs": [],
   "source": [
    "emp2=BonusDistribution(123,'B')\n"
   ]
  },
  {
   "cell_type": "code",
   "execution_count": 45,
   "id": "3bde9488",
   "metadata": {},
   "outputs": [
    {
     "data": {
      "text/plain": [
       "'Bonus for this employee is:60%'"
      ]
     },
     "execution_count": 45,
     "metadata": {},
     "output_type": "execute_result"
    }
   ],
   "source": [
    "emp2.bonusCalculator()"
   ]
  },
  {
   "cell_type": "code",
   "execution_count": 46,
   "id": "15b26e31",
   "metadata": {},
   "outputs": [],
   "source": [
    "#as a private variable we can also create the private fucntion."
   ]
  },
  {
   "cell_type": "code",
   "execution_count": 47,
   "id": "b20a8884",
   "metadata": {},
   "outputs": [],
   "source": [
    "class BonusDistribution:\n",
    "    \n",
    "    def __init__(self,employeeId,employeeRating):\n",
    "        \n",
    "        self.emId=employeeId\n",
    "        self.empRating=employeeRating\n",
    "        self.__bonusforRatingA=\"70%\"#making value private\n",
    "        self.__bonusforRatingB=\"60%\"#making value private\n",
    "        self.__bonusforRatingC=\"50%\"#making value private\n",
    "        self.__bonusforRatingD=\"30%\"#making value private\n",
    "        self.__bonusforRatingForRest=\"No Bonus\"#making value private\n",
    "    \n",
    "    def bonusCalculator(self):\n",
    "        if self.empRating==\"A\":\n",
    "            bonus=self.__bonusforRatingA\n",
    "            msg=\"Bonus for this employee is:\"+ bonus\n",
    "            return msg\n",
    "        elif self.empRating==\"B\":\n",
    "            bonus=self.__bonusforRatingB\n",
    "            msg=\"Bonus for this employee is:\"+ bonus\n",
    "            return msg\n",
    "        elif self.empRating==\"c\":\n",
    "            bonus=self.__bonusforRatingC\n",
    "            msg=\"Bonus for this employee is:\"+ bonus\n",
    "            return msg\n",
    "        elif self.empRating==\"D\":\n",
    "            bonus=self.__bonusforRatingD\n",
    "            msg=\"Bonus for this employee is:\"+ bonus\n",
    "            return msg\n",
    "        else:\n",
    "            bonus=self.__bonusforRatingForRest\n",
    "            msg=\"Bonus for this employee is:\"+ bonus\n",
    "            return msg\n",
    "    def __changevariable(self,value):# making func private\n",
    "        self.__bonusforRatingB=value"
   ]
  },
  {
   "cell_type": "code",
   "execution_count": 48,
   "id": "a785489f",
   "metadata": {},
   "outputs": [],
   "source": [
    "emp2=BonusDistribution(123,'B')\n"
   ]
  },
  {
   "cell_type": "code",
   "execution_count": 49,
   "id": "fdc5e7b8",
   "metadata": {},
   "outputs": [
    {
     "ename": "AttributeError",
     "evalue": "'BonusDistribution' object has no attribute '__changevariable'",
     "output_type": "error",
     "traceback": [
      "\u001b[1;31m---------------------------------------------------------------------------\u001b[0m",
      "\u001b[1;31mAttributeError\u001b[0m                            Traceback (most recent call last)",
      "Cell \u001b[1;32mIn[49], line 1\u001b[0m\n\u001b[1;32m----> 1\u001b[0m \u001b[43memp2\u001b[49m\u001b[38;5;241;43m.\u001b[39;49m\u001b[43m__changevariable\u001b[49m()\n",
      "\u001b[1;31mAttributeError\u001b[0m: 'BonusDistribution' object has no attribute '__changevariable'"
     ]
    }
   ],
   "source": [
    "emp2.__changevariable()"
   ]
  },
  {
   "cell_type": "code",
   "execution_count": 50,
   "id": "05ff2b80",
   "metadata": {},
   "outputs": [],
   "source": [
    "emp2._BonusDistribution__changevariable(\"20%\")"
   ]
  },
  {
   "cell_type": "code",
   "execution_count": 51,
   "id": "48ca3fce",
   "metadata": {},
   "outputs": [
    {
     "data": {
      "text/plain": [
       "'Bonus for this employee is:20%'"
      ]
     },
     "execution_count": 51,
     "metadata": {},
     "output_type": "execute_result"
    }
   ],
   "source": [
    "emp2.bonusCalculator()"
   ]
  },
  {
   "cell_type": "code",
   "execution_count": 52,
   "id": "0a13cfe9",
   "metadata": {},
   "outputs": [],
   "source": [
    "class multiplynumeric():\n",
    "    def __init__(self,a):\n",
    "        self.a=a"
   ]
  },
  {
   "cell_type": "code",
   "execution_count": 53,
   "id": "0fc64cab",
   "metadata": {},
   "outputs": [],
   "source": [
    "m=multiplynumeric(10)\n",
    "m1=multiplynumeric(2)"
   ]
  },
  {
   "cell_type": "code",
   "execution_count": 54,
   "id": "c008f9a1",
   "metadata": {},
   "outputs": [
    {
     "ename": "TypeError",
     "evalue": "unsupported operand type(s) for *: 'multiplynumeric' and 'multiplynumeric'",
     "output_type": "error",
     "traceback": [
      "\u001b[1;31m---------------------------------------------------------------------------\u001b[0m",
      "\u001b[1;31mTypeError\u001b[0m                                 Traceback (most recent call last)",
      "Cell \u001b[1;32mIn[54], line 1\u001b[0m\n\u001b[1;32m----> 1\u001b[0m \u001b[43mm\u001b[49m\u001b[38;5;241;43m*\u001b[39;49m\u001b[43mm1\u001b[49m\n",
      "\u001b[1;31mTypeError\u001b[0m: unsupported operand type(s) for *: 'multiplynumeric' and 'multiplynumeric'"
     ]
    }
   ],
   "source": [
    "m*m1"
   ]
  },
  {
   "cell_type": "code",
   "execution_count": 56,
   "id": "7e50ed82",
   "metadata": {},
   "outputs": [
    {
     "data": {
      "text/plain": [
       "20"
      ]
     },
     "execution_count": 56,
     "metadata": {},
     "output_type": "execute_result"
    }
   ],
   "source": [
    "m.a * m1.a"
   ]
  },
  {
   "cell_type": "code",
   "execution_count": 57,
   "id": "1111c6ac",
   "metadata": {},
   "outputs": [],
   "source": [
    "class multiplynumeric():\n",
    "    def __init__(self,a):\n",
    "        self.a=a\n",
    "        \n",
    "    def __mul__(self,other):\n",
    "        return self.a * other.a"
   ]
  },
  {
   "cell_type": "code",
   "execution_count": 59,
   "id": "a20f6a90",
   "metadata": {},
   "outputs": [],
   "source": [
    "m=multiplynumeric(10)\n",
    "m1=multiplynumeric(3)"
   ]
  },
  {
   "cell_type": "code",
   "execution_count": 60,
   "id": "031d0911",
   "metadata": {},
   "outputs": [
    {
     "data": {
      "text/plain": [
       "30"
      ]
     },
     "execution_count": 60,
     "metadata": {},
     "output_type": "execute_result"
    }
   ],
   "source": [
    "m * m1"
   ]
  },
  {
   "cell_type": "code",
   "execution_count": 61,
   "id": "52292458",
   "metadata": {},
   "outputs": [
    {
     "ename": "TypeError",
     "evalue": "unsupported operand type(s) for +: 'multiplynumeric' and 'multiplynumeric'",
     "output_type": "error",
     "traceback": [
      "\u001b[1;31m---------------------------------------------------------------------------\u001b[0m",
      "\u001b[1;31mTypeError\u001b[0m                                 Traceback (most recent call last)",
      "Cell \u001b[1;32mIn[61], line 1\u001b[0m\n\u001b[1;32m----> 1\u001b[0m \u001b[43mm\u001b[49m\u001b[43m \u001b[49m\u001b[38;5;241;43m+\u001b[39;49m\u001b[43m \u001b[49m\u001b[43mm1\u001b[49m\n",
      "\u001b[1;31mTypeError\u001b[0m: unsupported operand type(s) for +: 'multiplynumeric' and 'multiplynumeric'"
     ]
    }
   ],
   "source": [
    "m + m1"
   ]
  },
  {
   "cell_type": "code",
   "execution_count": 62,
   "id": "73dc798e",
   "metadata": {},
   "outputs": [],
   "source": [
    "#as there is staric in the return of the above code ,it only works"
   ]
  },
  {
   "cell_type": "code",
   "execution_count": 63,
   "id": "01ba1763",
   "metadata": {},
   "outputs": [],
   "source": [
    "class multiplynumeric():\n",
    "    def __init__(self,a):\n",
    "        self.a=a\n",
    "        \n",
    "    def __mul__(self,other):\n",
    "        return self.a + other.a"
   ]
  },
  {
   "cell_type": "code",
   "execution_count": 64,
   "id": "0a12f065",
   "metadata": {},
   "outputs": [],
   "source": [
    "m=multiplynumeric(10)\n",
    "m1=multiplynumeric(3)"
   ]
  },
  {
   "cell_type": "code",
   "execution_count": 65,
   "id": "93471340",
   "metadata": {},
   "outputs": [
    {
     "data": {
      "text/plain": [
       "13"
      ]
     },
     "execution_count": 65,
     "metadata": {},
     "output_type": "execute_result"
    }
   ],
   "source": [
    "m * m1"
   ]
  },
  {
   "cell_type": "code",
   "execution_count": 66,
   "id": "47e3c56d",
   "metadata": {},
   "outputs": [],
   "source": [
    "#even if we are multiplying the above it is only going to take the addition as + is mentioned in the return."
   ]
  },
  {
   "cell_type": "markdown",
   "id": "e951226d",
   "metadata": {},
   "source": [
    "POLYMORPHISM"
   ]
  },
  {
   "cell_type": "code",
   "execution_count": 68,
   "id": "a901b077",
   "metadata": {},
   "outputs": [],
   "source": [
    "def test(a,b):\n",
    "    return a+b"
   ]
  },
  {
   "cell_type": "code",
   "execution_count": 69,
   "id": "ca78cbae",
   "metadata": {},
   "outputs": [
    {
     "name": "stdout",
     "output_type": "stream",
     "text": [
      "5\n",
      "srikanth\n",
      "[1, 2, 3, 4, 5, 6, 7]\n"
     ]
    }
   ],
   "source": [
    "print(test(2,3))\n",
    "print(test(\"sri\", \"kanth\"))\n",
    "print(test([1,2,3],[4,5,6,7]))\n"
   ]
  },
  {
   "cell_type": "code",
   "execution_count": 71,
   "id": "05818608",
   "metadata": {},
   "outputs": [],
   "source": [
    "#in the above we are using only one operator(+) which is acting like addition to integers,concatination to string,appending to list.\n",
    "#this situation is called as polymorphism.\n",
    "#polymorphism is nothing but multiple forms but object is same"
   ]
  },
  {
   "cell_type": "code",
   "execution_count": null,
   "id": "4decbe30",
   "metadata": {},
   "outputs": [],
   "source": []
  }
 ],
 "metadata": {
  "kernelspec": {
   "display_name": "Python 3 (ipykernel)",
   "language": "python",
   "name": "python3"
  },
  "language_info": {
   "codemirror_mode": {
    "name": "ipython",
    "version": 3
   },
   "file_extension": ".py",
   "mimetype": "text/x-python",
   "name": "python",
   "nbconvert_exporter": "python",
   "pygments_lexer": "ipython3",
   "version": "3.9.7"
  }
 },
 "nbformat": 4,
 "nbformat_minor": 5
}

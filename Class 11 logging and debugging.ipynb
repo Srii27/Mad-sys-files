{
 "cells": [
  {
   "cell_type": "code",
   "execution_count": 1,
   "id": "cb895674",
   "metadata": {},
   "outputs": [],
   "source": [
    "#Logging is a means of tracking events that happen when some software runs. Logging is important for software developing, debugging, and running. If you don’t have any logging record and your program crashes, there are very few chances that you detect.."
   ]
  },
  {
   "cell_type": "code",
   "execution_count": 2,
   "id": "2882b159",
   "metadata": {},
   "outputs": [],
   "source": [
    "#things we use to log inside the system DEBUG,INFO,WARNING,ERROR,CRITICAL,"
   ]
  },
  {
   "cell_type": "code",
   "execution_count": 5,
   "id": "d581cb68",
   "metadata": {},
   "outputs": [],
   "source": [
    "#ideally logs should be disposed in the database systems not in the local systems\n"
   ]
  },
  {
   "cell_type": "code",
   "execution_count": 3,
   "id": "06f82af3",
   "metadata": {},
   "outputs": [],
   "source": [
    "#logging is nothing but a way to capture the informations which people have integrated with every possible system that we are using in today's environment."
   ]
  },
  {
   "cell_type": "code",
   "execution_count": 1,
   "id": "7ab031f4",
   "metadata": {},
   "outputs": [],
   "source": [
    "import logging as lg"
   ]
  },
  {
   "cell_type": "code",
   "execution_count": 2,
   "id": "ecafeacc",
   "metadata": {},
   "outputs": [],
   "source": [
    "import os"
   ]
  },
  {
   "cell_type": "code",
   "execution_count": 4,
   "id": "157ba3de",
   "metadata": {},
   "outputs": [],
   "source": [
    "os.mkdir(\"loggingg\")"
   ]
  },
  {
   "cell_type": "code",
   "execution_count": 5,
   "id": "7cc17d00",
   "metadata": {},
   "outputs": [],
   "source": [
    "os.chdir(os.getcwd()+\"/\"+\"loggingg\")"
   ]
  },
  {
   "cell_type": "code",
   "execution_count": 6,
   "id": "89c406f6",
   "metadata": {},
   "outputs": [
    {
     "data": {
      "text/plain": [
       "'C:\\\\Users\\\\Madhulika\\\\Sri\\\\loggingg'"
      ]
     },
     "execution_count": 6,
     "metadata": {},
     "output_type": "execute_result"
    }
   ],
   "source": [
    "pwd()"
   ]
  },
  {
   "cell_type": "code",
   "execution_count": 28,
   "id": "02db6681",
   "metadata": {},
   "outputs": [],
   "source": [
    "lg.basicConfig(filename='test.log',level=lg.ERROR, format='%(asctime)s %(message)s')"
   ]
  },
  {
   "cell_type": "code",
   "execution_count": 13,
   "id": "ad9017f5",
   "metadata": {},
   "outputs": [],
   "source": [
    "lg.info(\"i am going to start my program\")"
   ]
  },
  {
   "cell_type": "code",
   "execution_count": 10,
   "id": "0fed6e46",
   "metadata": {},
   "outputs": [],
   "source": [
    "lg.warning(\"this is a first warning of my program so modify it\")"
   ]
  },
  {
   "cell_type": "code",
   "execution_count": 11,
   "id": "ac0531db",
   "metadata": {},
   "outputs": [],
   "source": [
    "lg.error(\"this is msg for error\")"
   ]
  },
  {
   "cell_type": "code",
   "execution_count": 14,
   "id": "0d61cc68",
   "metadata": {},
   "outputs": [],
   "source": [
    "def test(a,b):\n",
    "    div= a/b\n",
    "    return div"
   ]
  },
  {
   "cell_type": "code",
   "execution_count": 15,
   "id": "b20cbbd3",
   "metadata": {},
   "outputs": [
    {
     "ename": "ZeroDivisionError",
     "evalue": "division by zero",
     "output_type": "error",
     "traceback": [
      "\u001b[1;31m---------------------------------------------------------------------------\u001b[0m",
      "\u001b[1;31mZeroDivisionError\u001b[0m                         Traceback (most recent call last)",
      "\u001b[1;32m~\\AppData\\Local\\Temp/ipykernel_8992/2318398676.py\u001b[0m in \u001b[0;36m<module>\u001b[1;34m\u001b[0m\n\u001b[1;32m----> 1\u001b[1;33m \u001b[0mtest\u001b[0m\u001b[1;33m(\u001b[0m\u001b[1;36m5\u001b[0m\u001b[1;33m,\u001b[0m\u001b[1;36m0\u001b[0m\u001b[1;33m)\u001b[0m\u001b[1;33m\u001b[0m\u001b[1;33m\u001b[0m\u001b[0m\n\u001b[0m",
      "\u001b[1;32m~\\AppData\\Local\\Temp/ipykernel_8992/2907359875.py\u001b[0m in \u001b[0;36mtest\u001b[1;34m(a, b)\u001b[0m\n\u001b[0;32m      1\u001b[0m \u001b[1;32mdef\u001b[0m \u001b[0mtest\u001b[0m\u001b[1;33m(\u001b[0m\u001b[0ma\u001b[0m\u001b[1;33m,\u001b[0m\u001b[0mb\u001b[0m\u001b[1;33m)\u001b[0m\u001b[1;33m:\u001b[0m\u001b[1;33m\u001b[0m\u001b[1;33m\u001b[0m\u001b[0m\n\u001b[1;32m----> 2\u001b[1;33m     \u001b[0mdiv\u001b[0m\u001b[1;33m=\u001b[0m \u001b[0ma\u001b[0m\u001b[1;33m/\u001b[0m\u001b[0mb\u001b[0m\u001b[1;33m\u001b[0m\u001b[1;33m\u001b[0m\u001b[0m\n\u001b[0m\u001b[0;32m      3\u001b[0m     \u001b[1;32mreturn\u001b[0m \u001b[0mdiv\u001b[0m\u001b[1;33m\u001b[0m\u001b[1;33m\u001b[0m\u001b[0m\n",
      "\u001b[1;31mZeroDivisionError\u001b[0m: division by zero"
     ]
    }
   ],
   "source": [
    "test(5,0)"
   ]
  },
  {
   "cell_type": "code",
   "execution_count": 19,
   "id": "d3012049",
   "metadata": {},
   "outputs": [],
   "source": [
    "def test1(a,b):\n",
    "    try:\n",
    "        div=a/b\n",
    "        return div\n",
    "    except Exception as e:\n",
    "        print(\"you can check your log for more info\")\n",
    "        lg.error(\"error has occured\")\n",
    "        lg.exception(str(e))"
   ]
  },
  {
   "cell_type": "code",
   "execution_count": 20,
   "id": "48227e15",
   "metadata": {},
   "outputs": [
    {
     "name": "stdout",
     "output_type": "stream",
     "text": [
      "you can check your log for more info\n"
     ]
    }
   ],
   "source": [
    "test1(5,0)"
   ]
  },
  {
   "cell_type": "code",
   "execution_count": 21,
   "id": "546c23d6",
   "metadata": {},
   "outputs": [],
   "source": [
    "#try and except will be covered in the upcoming classes"
   ]
  },
  {
   "cell_type": "code",
   "execution_count": 22,
   "id": "6892681d",
   "metadata": {},
   "outputs": [],
   "source": [
    "#logging is all about single line code that we write at the begining(line no12) of the code so that it will easy to the production level team to capture the errors in the code and to debug it.It also helps to understand the flow of the code,time of execution."
   ]
  },
  {
   "cell_type": "code",
   "execution_count": 29,
   "id": "b2dccfbf",
   "metadata": {},
   "outputs": [],
   "source": [
    "def test1(a,b):\n",
    "    try:\n",
    "        lg.info(str(a)+str(b)) \n",
    "        div=a/b\n",
    "        return div\n",
    "    except Exception as e:\n",
    "        print(\"you can check your log for more info\")\n",
    "        lg.error(\"error has occured\")\n",
    "        lg.exception(str(e))"
   ]
  },
  {
   "cell_type": "code",
   "execution_count": 30,
   "id": "d695d546",
   "metadata": {},
   "outputs": [
    {
     "name": "stdout",
     "output_type": "stream",
     "text": [
      "you can check your log for more info\n"
     ]
    }
   ],
   "source": [
    "test1(5,0)"
   ]
  },
  {
   "cell_type": "code",
   "execution_count": 2,
   "id": "2a243292",
   "metadata": {},
   "outputs": [],
   "source": [
    "import logging\n",
    "logging.basicConfig(filename='test3.log',level=logging.INFO, format='%(asctime)s %(message)s')\n",
    "def test(a,b):\n",
    "    logging.info(\"this is a start of function\")\n",
    "    return a+b"
   ]
  },
  {
   "cell_type": "code",
   "execution_count": 3,
   "id": "dd34ea6c",
   "metadata": {},
   "outputs": [
    {
     "data": {
      "text/plain": [
       "7"
      ]
     },
     "execution_count": 3,
     "metadata": {},
     "output_type": "execute_result"
    }
   ],
   "source": [
    "test(3,4)"
   ]
  },
  {
   "cell_type": "code",
   "execution_count": 4,
   "id": "16a0f732",
   "metadata": {},
   "outputs": [],
   "source": [
    "logging.shutdown()"
   ]
  },
  {
   "cell_type": "code",
   "execution_count": 5,
   "id": "09d766af",
   "metadata": {},
   "outputs": [],
   "source": [
    "logging.debug(\"this is for debugging\")\n",
    "logging.info(\"this is info log\")\n",
    "logging.warning(\"this is my warning log\")\n",
    "logging.error(\"this is my error log\")\n",
    "logging.exception(\"this is my exception log\")\n",
    "logging.critical(\"this is my critical log\")"
   ]
  },
  {
   "cell_type": "code",
   "execution_count": 1,
   "id": "f878dcdc",
   "metadata": {},
   "outputs": [
    {
     "name": "stdout",
     "output_type": "stream",
     "text": [
      "['2023-01-23 00:11:51,571 the result sum of all the given args\\n2023-01-23 00:14:23,236 the result sum of all the given args\\n2023-01-23 00:14:40,075 the result sum of all the given args\\n2023-01-23 00:32:53,477 the result sum of all the given args\\n2023-01-23 00:34:32,145 the result sum of all the given args\\n2023-01-23 00:34:55,020 the result sum of all the given args\\n2023-01-23 00:40:53,037 the result sum of all the given args\\n2023-01-23 00:40:53,037 user input(1, 2, 3, 4, 5)\\n2023-01-23 00:41:55,110 the result sum of all the given args\\n2023-01-23 00:41:55,110 user input(1, 2, 3, 4, 5)\\n']\n"
     ]
    }
   ],
   "source": [
    "import logging as log\n",
    "log.basicConfig(filename='que.log',level=log.INFO, format='%(asctime)s %(message)s')\n",
    "def fnct(*args):\n",
    "    log.info(\"user input\"+str(args))\n",
    "    a = sum(args)\n",
    "    return a\n",
    "log.info(\"the result sum of all the given args\")\n",
    "fnct(1,2,3,4,5)\n",
    "l=[]\n",
    "f=open(\"que.log\",\"r\")\n",
    "l.append(f.read())\n",
    "print(l)"
   ]
  },
  {
   "cell_type": "code",
   "execution_count": 7,
   "id": "6c93fc09",
   "metadata": {},
   "outputs": [
    {
     "data": {
      "text/plain": [
       "15"
      ]
     },
     "execution_count": 7,
     "metadata": {},
     "output_type": "execute_result"
    }
   ],
   "source": [
    "fnct(1,2,3,4,5)"
   ]
  },
  {
   "cell_type": "code",
   "execution_count": 2,
   "id": "b573d6fb",
   "metadata": {},
   "outputs": [],
   "source": [
    "def ppt(*args):\n",
    "    return str(args)"
   ]
  },
  {
   "cell_type": "code",
   "execution_count": 3,
   "id": "d69aa87b",
   "metadata": {},
   "outputs": [
    {
     "data": {
      "text/plain": [
       "'(1, 2, 3, 4, 5, 6)'"
      ]
     },
     "execution_count": 3,
     "metadata": {},
     "output_type": "execute_result"
    }
   ],
   "source": [
    "ppt(1,2,3,4,5,6)"
   ]
  },
  {
   "cell_type": "code",
   "execution_count": 2,
   "id": "c25bf7fa",
   "metadata": {},
   "outputs": [
    {
     "data": {
      "text/plain": [
       "['2023-01-23 00:11:51,571 the result sum of all the given args\\n2023-01-23 00:14:23,236 the result sum of all the given args\\n2023-01-23 00:14:40,075 the result sum of all the given args\\n2023-01-23 00:32:53,477 the result sum of all the given args\\n2023-01-23 00:34:32,145 the result sum of all the given args\\n2023-01-23 00:34:55,020 the result sum of all the given args\\n2023-01-23 00:40:53,037 the result sum of all the given args\\n2023-01-23 00:40:53,037 user input(1, 2, 3, 4, 5)\\n2023-01-23 00:41:55,110 the result sum of all the given args\\n2023-01-23 00:41:55,110 user input(1, 2, 3, 4, 5)\\n']"
      ]
     },
     "execution_count": 2,
     "metadata": {},
     "output_type": "execute_result"
    }
   ],
   "source": [
    "l"
   ]
  },
  {
   "cell_type": "code",
   "execution_count": 1,
   "id": "1d0eb43c",
   "metadata": {},
   "outputs": [
    {
     "name": "stderr",
     "output_type": "stream",
     "text": [
      "root - 2023-01-23 13:21:21,668-INFO-main log\n",
      "user 1 - 2023-01-23 13:21:21,670-INFO-this is from u1 info\n",
      "user 2 - 2023-01-23 13:21:21,671-DEBUG-this is from u2 debug\n"
     ]
    }
   ],
   "source": [
    "#logging_example.py\n",
    "import logging\n",
    "\n",
    "logging.basicConfig(filename=\"app.log\",level=logging.DEBUG,format='%(asctime)s %(name)s %(levelname)s %(message)s')\n",
    "\n",
    "#create handlers\n",
    "console_log=logging.StreamHandler()\n",
    "console_log.setLevel(logging.DEBUG)\n",
    "format = logging.Formatter('%(name)s - %(asctime)s-%(levelname)s-%(message)s')\n",
    "console_log.setFormatter(format)\n",
    "#create a custom logger\n",
    "logging.getLogger('').addHandler(console_log)\n",
    "logging.info('main log')\n",
    "logger1=logging.getLogger('user 1')\n",
    "logger2=logging.getLogger('user 2')\n",
    "logger1.info('this is from u1 info')\n",
    "logger2.debug('this is from u2 debug')"
   ]
  },
  {
   "cell_type": "code",
   "execution_count": null,
   "id": "ecdb1ac6",
   "metadata": {},
   "outputs": [],
   "source": [
    "#DEBUGGING"
   ]
  },
  {
   "cell_type": "code",
   "execution_count": 2,
   "id": "214f1968",
   "metadata": {},
   "outputs": [],
   "source": [
    "#ipdb(i=jupyter,pdb=python debuger),pip- is a repository"
   ]
  },
  {
   "cell_type": "code",
   "execution_count": 3,
   "id": "433ace38",
   "metadata": {},
   "outputs": [
    {
     "name": "stdout",
     "output_type": "stream",
     "text": [
      "Collecting ipdb\n",
      "  Downloading ipdb-0.13.11-py3-none-any.whl (12 kB)\n",
      "Requirement already satisfied: decorator in c:\\users\\madhulika\\anaconda\\lib\\site-packages (from ipdb) (5.1.0)\n",
      "Collecting tomli\n",
      "  Downloading tomli-2.0.1-py3-none-any.whl (12 kB)\n",
      "Collecting ipython>=7.31.1\n",
      "  Downloading ipython-8.8.0-py3-none-any.whl (775 kB)\n",
      "Collecting stack-data\n",
      "  Downloading stack_data-0.6.2-py3-none-any.whl (24 kB)\n",
      "Requirement already satisfied: colorama in c:\\users\\madhulika\\anaconda\\lib\\site-packages (from ipython>=7.31.1->ipdb) (0.4.4)\n",
      "Requirement already satisfied: backcall in c:\\users\\madhulika\\anaconda\\lib\\site-packages (from ipython>=7.31.1->ipdb) (0.2.0)\n",
      "Requirement already satisfied: traitlets>=5 in c:\\users\\madhulika\\anaconda\\lib\\site-packages (from ipython>=7.31.1->ipdb) (5.1.0)\n",
      "Requirement already satisfied: jedi>=0.16 in c:\\users\\madhulika\\anaconda\\lib\\site-packages (from ipython>=7.31.1->ipdb) (0.18.0)\n",
      "Requirement already satisfied: pygments>=2.4.0 in c:\\users\\madhulika\\anaconda\\lib\\site-packages (from ipython>=7.31.1->ipdb) (2.10.0)\n",
      "Requirement already satisfied: pickleshare in c:\\users\\madhulika\\anaconda\\lib\\site-packages (from ipython>=7.31.1->ipdb) (0.7.5)\n",
      "Requirement already satisfied: matplotlib-inline in c:\\users\\madhulika\\anaconda\\lib\\site-packages (from ipython>=7.31.1->ipdb) (0.1.2)\n",
      "Requirement already satisfied: prompt-toolkit<3.1.0,>=3.0.11 in c:\\users\\madhulika\\anaconda\\lib\\site-packages (from ipython>=7.31.1->ipdb) (3.0.20)\n",
      "Requirement already satisfied: parso<0.9.0,>=0.8.0 in c:\\users\\madhulika\\anaconda\\lib\\site-packages (from jedi>=0.16->ipython>=7.31.1->ipdb) (0.8.2)\n",
      "Requirement already satisfied: wcwidth in c:\\users\\madhulika\\anaconda\\lib\\site-packages (from prompt-toolkit<3.1.0,>=3.0.11->ipython>=7.31.1->ipdb) (0.2.5)\n",
      "Collecting executing>=1.2.0\n",
      "  Downloading executing-1.2.0-py2.py3-none-any.whl (24 kB)\n",
      "Collecting pure-eval\n",
      "  Downloading pure_eval-0.2.2-py3-none-any.whl (11 kB)\n",
      "Collecting asttokens>=2.1.0\n",
      "  Downloading asttokens-2.2.1-py2.py3-none-any.whl (26 kB)\n",
      "Requirement already satisfied: six in c:\\users\\madhulika\\anaconda\\lib\\site-packages (from asttokens>=2.1.0->stack-data->ipython>=7.31.1->ipdb) (1.16.0)\n",
      "Installing collected packages: pure-eval, executing, asttokens, stack-data, tomli, ipython, ipdb\n",
      "  Attempting uninstall: ipython\n",
      "    Found existing installation: ipython 7.29.0\n",
      "    Uninstalling ipython-7.29.0:\n",
      "      Successfully uninstalled ipython-7.29.0\n",
      "Successfully installed asttokens-2.2.1 executing-1.2.0 ipdb-0.13.11 ipython-8.8.0 pure-eval-0.2.2 stack-data-0.6.2 tomli-2.0.1\n"
     ]
    },
    {
     "name": "stderr",
     "output_type": "stream",
     "text": [
      "ERROR: pip's dependency resolver does not currently take into account all the packages that are installed. This behaviour is the source of the following dependency conflicts.\n",
      "spyder 5.1.5 requires pyqt5<5.13, which is not installed.\n",
      "spyder 5.1.5 requires pyqtwebengine<5.13, which is not installed.\n",
      "ipykernel 6.4.1 requires ipython<8.0,>=7.23.1, but you have ipython 8.8.0 which is incompatible.\n"
     ]
    }
   ],
   "source": [
    "!pip install ipdb"
   ]
  },
  {
   "cell_type": "code",
   "execution_count": 4,
   "id": "4e22dc01",
   "metadata": {},
   "outputs": [],
   "source": [
    "import ipdb"
   ]
  },
  {
   "cell_type": "code",
   "execution_count": 5,
   "id": "ccacfdf5",
   "metadata": {},
   "outputs": [],
   "source": [
    "#ipdb is a package name"
   ]
  },
  {
   "cell_type": "code",
   "execution_count": 7,
   "id": "864876bf",
   "metadata": {},
   "outputs": [],
   "source": [
    "def testdebug():\n",
    "    l=[]\n",
    "    for i in range(10):\n",
    "        l.append(i)\n",
    "        print(\"appended data in list\")\n",
    "    return l"
   ]
  },
  {
   "cell_type": "code",
   "execution_count": 8,
   "id": "0feaf4fe",
   "metadata": {},
   "outputs": [
    {
     "name": "stdout",
     "output_type": "stream",
     "text": [
      "appended data in list\n",
      "appended data in list\n",
      "appended data in list\n",
      "appended data in list\n",
      "appended data in list\n",
      "appended data in list\n",
      "appended data in list\n",
      "appended data in list\n",
      "appended data in list\n",
      "appended data in list\n"
     ]
    },
    {
     "data": {
      "text/plain": [
       "[0, 1, 2, 3, 4, 5, 6, 7, 8, 9]"
      ]
     },
     "execution_count": 8,
     "metadata": {},
     "output_type": "execute_result"
    }
   ],
   "source": [
    "testdebug()"
   ]
  },
  {
   "cell_type": "code",
   "execution_count": 9,
   "id": "23c63f72",
   "metadata": {},
   "outputs": [],
   "source": [
    "#if we are completely new to the above code and if we do not understand the logic, there we use debugging"
   ]
  },
  {
   "cell_type": "code",
   "execution_count": 10,
   "id": "ee101764",
   "metadata": {},
   "outputs": [],
   "source": [
    "def testdebug():\n",
    "    ipdb.set_trace()\n",
    "    l=[]\n",
    "    for i in range(10):\n",
    "        l.append(i)\n",
    "        print(\"appended data in list\")\n",
    "    return l"
   ]
  },
  {
   "cell_type": "code",
   "execution_count": 11,
   "id": "edaca194",
   "metadata": {},
   "outputs": [
    {
     "name": "stdout",
     "output_type": "stream",
     "text": [
      "> \u001b[1;32mc:\\users\\madhulika\\appdata\\local\\temp\\ipykernel_5624\\1582369078.py\u001b[0m(3)\u001b[0;36mtestdebug\u001b[1;34m()\u001b[0m\n",
      "\n",
      "ipdb> h\n",
      "\n",
      "Documented commands (type help <topic>):\n",
      "========================================\n",
      "EOF    commands   enable    ll        pp       s                until \n",
      "a      condition  exit      longlist  psource  skip_hidden      up    \n",
      "alias  cont       h         n         q        skip_predicates  w     \n",
      "args   context    help      next      quit     source           whatis\n",
      "b      continue   ignore    p         r        step             where \n",
      "break  d          interact  pdef      restart  tbreak         \n",
      "bt     debug      j         pdoc      return   u              \n",
      "c      disable    jump      pfile     retval   unalias        \n",
      "cl     display    l         pinfo     run      undisplay      \n",
      "clear  down       list      pinfo2    rv       unt            \n",
      "\n",
      "Miscellaneous help topics:\n",
      "==========================\n",
      "exec  pdb\n",
      "\n",
      "ipdb> next\n",
      "> \u001b[1;32mc:\\users\\madhulika\\appdata\\local\\temp\\ipykernel_5624\\1582369078.py\u001b[0m(4)\u001b[0;36mtestdebug\u001b[1;34m()\u001b[0m\n",
      "\n",
      "ipdb> next\n",
      "> \u001b[1;32mc:\\users\\madhulika\\appdata\\local\\temp\\ipykernel_5624\\1582369078.py\u001b[0m(5)\u001b[0;36mtestdebug\u001b[1;34m()\u001b[0m\n",
      "\n",
      "ipdb> next\n",
      "> \u001b[1;32mc:\\users\\madhulika\\appdata\\local\\temp\\ipykernel_5624\\1582369078.py\u001b[0m(6)\u001b[0;36mtestdebug\u001b[1;34m()\u001b[0m\n",
      "\n",
      "ipdb> next\n",
      "appended data in list\n",
      "> \u001b[1;32mc:\\users\\madhulika\\appdata\\local\\temp\\ipykernel_5624\\1582369078.py\u001b[0m(4)\u001b[0;36mtestdebug\u001b[1;34m()\u001b[0m\n",
      "\n",
      "ipdb> next\n",
      "> \u001b[1;32mc:\\users\\madhulika\\appdata\\local\\temp\\ipykernel_5624\\1582369078.py\u001b[0m(5)\u001b[0;36mtestdebug\u001b[1;34m()\u001b[0m\n",
      "\n",
      "ipdb> next\n",
      "> \u001b[1;32mc:\\users\\madhulika\\appdata\\local\\temp\\ipykernel_5624\\1582369078.py\u001b[0m(6)\u001b[0;36mtestdebug\u001b[1;34m()\u001b[0m\n",
      "\n",
      "ipdb> next\n",
      "appended data in list\n",
      "> \u001b[1;32mc:\\users\\madhulika\\appdata\\local\\temp\\ipykernel_5624\\1582369078.py\u001b[0m(4)\u001b[0;36mtestdebug\u001b[1;34m()\u001b[0m\n",
      "\n",
      "ipdb> next\n",
      "> \u001b[1;32mc:\\users\\madhulika\\appdata\\local\\temp\\ipykernel_5624\\1582369078.py\u001b[0m(5)\u001b[0;36mtestdebug\u001b[1;34m()\u001b[0m\n",
      "\n",
      "ipdb> \n",
      "> \u001b[1;32mc:\\users\\madhulika\\appdata\\local\\temp\\ipykernel_5624\\1582369078.py\u001b[0m(6)\u001b[0;36mtestdebug\u001b[1;34m()\u001b[0m\n",
      "\n",
      "ipdb> next\n",
      "appended data in list\n",
      "> \u001b[1;32mc:\\users\\madhulika\\appdata\\local\\temp\\ipykernel_5624\\1582369078.py\u001b[0m(4)\u001b[0;36mtestdebug\u001b[1;34m()\u001b[0m\n",
      "\n",
      "ipdb> next\n",
      "> \u001b[1;32mc:\\users\\madhulika\\appdata\\local\\temp\\ipykernel_5624\\1582369078.py\u001b[0m(5)\u001b[0;36mtestdebug\u001b[1;34m()\u001b[0m\n",
      "\n",
      "ipdb> next\n",
      "> \u001b[1;32mc:\\users\\madhulika\\appdata\\local\\temp\\ipykernel_5624\\1582369078.py\u001b[0m(6)\u001b[0;36mtestdebug\u001b[1;34m()\u001b[0m\n",
      "\n",
      "ipdb> next\n",
      "appended data in list\n",
      "> \u001b[1;32mc:\\users\\madhulika\\appdata\\local\\temp\\ipykernel_5624\\1582369078.py\u001b[0m(4)\u001b[0;36mtestdebug\u001b[1;34m()\u001b[0m\n",
      "\n",
      "ipdb> next\n",
      "> \u001b[1;32mc:\\users\\madhulika\\appdata\\local\\temp\\ipykernel_5624\\1582369078.py\u001b[0m(5)\u001b[0;36mtestdebug\u001b[1;34m()\u001b[0m\n",
      "\n",
      "ipdb> next\n",
      "> \u001b[1;32mc:\\users\\madhulika\\appdata\\local\\temp\\ipykernel_5624\\1582369078.py\u001b[0m(6)\u001b[0;36mtestdebug\u001b[1;34m()\u001b[0m\n",
      "\n",
      "ipdb> next\n",
      "appended data in list\n",
      "> \u001b[1;32mc:\\users\\madhulika\\appdata\\local\\temp\\ipykernel_5624\\1582369078.py\u001b[0m(4)\u001b[0;36mtestdebug\u001b[1;34m()\u001b[0m\n",
      "\n",
      "ipdb> next\n",
      "> \u001b[1;32mc:\\users\\madhulika\\appdata\\local\\temp\\ipykernel_5624\\1582369078.py\u001b[0m(5)\u001b[0;36mtestdebug\u001b[1;34m()\u001b[0m\n",
      "\n",
      "ipdb> next\n",
      "> \u001b[1;32mc:\\users\\madhulika\\appdata\\local\\temp\\ipykernel_5624\\1582369078.py\u001b[0m(6)\u001b[0;36mtestdebug\u001b[1;34m()\u001b[0m\n",
      "\n",
      "ipdb> next\n",
      "appended data in list\n",
      "> \u001b[1;32mc:\\users\\madhulika\\appdata\\local\\temp\\ipykernel_5624\\1582369078.py\u001b[0m(4)\u001b[0;36mtestdebug\u001b[1;34m()\u001b[0m\n",
      "\n",
      "ipdb> next\n",
      "> \u001b[1;32mc:\\users\\madhulika\\appdata\\local\\temp\\ipykernel_5624\\1582369078.py\u001b[0m(5)\u001b[0;36mtestdebug\u001b[1;34m()\u001b[0m\n",
      "\n",
      "ipdb> next\n",
      "> \u001b[1;32mc:\\users\\madhulika\\appdata\\local\\temp\\ipykernel_5624\\1582369078.py\u001b[0m(6)\u001b[0;36mtestdebug\u001b[1;34m()\u001b[0m\n",
      "\n",
      "ipdb> i\n",
      "6\n",
      "ipdb> next\n",
      "appended data in list\n",
      "> \u001b[1;32mc:\\users\\madhulika\\appdata\\local\\temp\\ipykernel_5624\\1582369078.py\u001b[0m(4)\u001b[0;36mtestdebug\u001b[1;34m()\u001b[0m\n",
      "\n",
      "ipdb> i\n",
      "6\n",
      "ipdb> next\n",
      "> \u001b[1;32mc:\\users\\madhulika\\appdata\\local\\temp\\ipykernel_5624\\1582369078.py\u001b[0m(5)\u001b[0;36mtestdebug\u001b[1;34m()\u001b[0m\n",
      "\n",
      "ipdb> next\n",
      "> \u001b[1;32mc:\\users\\madhulika\\appdata\\local\\temp\\ipykernel_5624\\1582369078.py\u001b[0m(6)\u001b[0;36mtestdebug\u001b[1;34m()\u001b[0m\n",
      "\n",
      "ipdb> next\n",
      "appended data in list\n",
      "> \u001b[1;32mc:\\users\\madhulika\\appdata\\local\\temp\\ipykernel_5624\\1582369078.py\u001b[0m(4)\u001b[0;36mtestdebug\u001b[1;34m()\u001b[0m\n",
      "\n",
      "ipdb> i\n",
      "7\n",
      "ipdb> c\n",
      "appended data in list\n",
      "appended data in list\n"
     ]
    },
    {
     "data": {
      "text/plain": [
       "[0, 1, 2, 3, 4, 5, 6, 7, 8, 9]"
      ]
     },
     "execution_count": 11,
     "metadata": {},
     "output_type": "execute_result"
    }
   ],
   "source": [
    "testdebug()"
   ]
  },
  {
   "cell_type": "code",
   "execution_count": null,
   "id": "28c0e173",
   "metadata": {},
   "outputs": [],
   "source": []
  }
 ],
 "metadata": {
  "kernelspec": {
   "display_name": "Python 3 (ipykernel)",
   "language": "python",
   "name": "python3"
  },
  "language_info": {
   "codemirror_mode": {
    "name": "ipython",
    "version": 3
   },
   "file_extension": ".py",
   "mimetype": "text/x-python",
   "name": "python",
   "nbconvert_exporter": "python",
   "pygments_lexer": "ipython3",
   "version": "3.9.7"
  }
 },
 "nbformat": 4,
 "nbformat_minor": 5
}
